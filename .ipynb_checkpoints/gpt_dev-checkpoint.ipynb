{
 "cells": [
  {
   "cell_type": "markdown",
   "metadata": {
    "id": "wJpXpmjEYC_T"
   },
   "source": [
    "## Building a GPT\n",
    "\n",
    "Companion notebook to the [Zero To Hero](https://karpathy.ai/zero-to-hero.html) video on GPT."
   ]
  },
  {
   "cell_type": "code",
   "execution_count": null,
   "metadata": {
    "id": "h5hjCcLDr2WC"
   },
   "outputs": [],
   "source": [
    "text = (\n",
    "    \"I visited Australia this year, a land of astonishing contrasts and spectacular beauty. \"\n",
    "    \"Amidst the vast, sun-drenched landscapes, I found myself mesmerized by the rich tapestry \"\n",
    "    \"of colors and textures. The azure skies stretched endlessly above, while the golden beaches \"\n",
    "    \"sparkled under the radiant sun. I explored the lush, verdant rainforests, teeming with vibrant \"\n",
    "    \"wildlife and exotic flora. The chorus of birdsong filled the air, creating a symphony of natural \"\n",
    "    \"sounds that was both enchanting and soothing.\"\n",
    "    \"In the heart of the country, I witnessed the majestic Uluru, a colossal red rock formation that rose \"\n",
    "    \"dramatically from the flat, arid desert. Its sheer size and deep, fiery hues were a breathtaking sight, \"\n",
    "    \"especially during sunset when the rock seemed to glow with an otherworldly light. The sacredness of \"\n",
    "    \"this ancient landmark was palpable, and I felt a profound sense of awe and respect for the indigenous \"\n",
    "    \"cultures that have revered it for millennia.\"\n",
    "    \"As I traveled along the rugged coastline, I encountered picturesque, azure bays and serene, turquoise \"\n",
    "    \"lagoons, each offering a unique and idyllic escape. The pristine, white sandy beaches were fringed with \"\n",
    "    \"swaying palm trees, and the crystal-clear waters invited me to dive into an underwater paradise. The Great \"\n",
    "    \"Barrier Reef, a kaleidoscopic wonderland of corals and marine life, was an unforgettable experience. The \"\n",
    "    \"myriad of colors and the graceful dance of the fish amidst the corals were a testament to the beauty and \"\n",
    "    \"fragility of our natural world.\"\n",
    "    \"In the bustling, cosmopolitan cities, I was captivated by the vibrant, multicultural atmosphere. Sydney, \"\n",
    "    \"with its iconic Opera House and stunning harbor, was a feast for the eyes. The city's architectural marvels \"\n",
    "    \"juxtaposed with the serene beauty of the botanical gardens created a harmonious blend of urban and natural \"\n",
    "    \"landscapes. Melbourne's art-filled laneways, brimming with creative energy, showcased the country's thriving \"\n",
    "    \"cultural scene. The aromatic scents of diverse cuisines wafted through the air, inviting me to indulge in a \"\n",
    "    \"culinary adventure.\"\n",
    "    \"The Australian wildlife was another highlight of my journey. From the adorable, cuddly koalas perched high in \"\n",
    "    \"the eucalyptus trees to the bounding kangaroos in the bushland, each encounter was a delightful surprise. The \"\n",
    "    \"vibrant, iridescent plumage of the parrots and the elusive, nocturnal wombat added to the enchantment of the \"\n",
    "    \"Australian fauna.\"\n",
    "    \"Throughout my travels, the warmth and friendliness of the Australian people were ever-present. Their laid-back, \"\n",
    "    \"welcoming nature made me feel at home in this distant land. The stories and laughter shared with locals enriched \"\n",
    "    \"my experience, leaving me with cherished memories and a deep appreciation for the diverse and captivating beauty of Australia.\"\n",
    ")\n"
   ]
  },
  {
   "cell_type": "code",
   "execution_count": null,
   "metadata": {
    "colab": {
     "base_uri": "https://localhost:8080/"
    },
    "id": "6xWI_VyAsN8F",
    "outputId": "0d0eb711-441e-4e13-ec36-eb22368ef219"
   },
   "outputs": [
    {
     "name": "stdout",
     "output_type": "stream",
     "text": [
      "length of dataset in characters:  2773\n"
     ]
    }
   ],
   "source": [
    "print(\"length of dataset in characters: \", len(text))"
   ]
  },
  {
   "cell_type": "code",
   "execution_count": null,
   "metadata": {
    "colab": {
     "base_uri": "https://localhost:8080/"
    },
    "id": "2c5V0FvqseE0",
    "outputId": "20f2efad-1d53-4fc7-ed35-9757cf091696"
   },
   "outputs": [
    {
     "name": "stdout",
     "output_type": "stream",
     "text": [
      "I visited Australia this year, a land of astonishing contrasts and spectacular beauty. Amidst the va\n"
     ]
    }
   ],
   "source": [
    "# let's look at the first 100 characters\n",
    "print(text[:100])"
   ]
  },
  {
   "cell_type": "code",
   "execution_count": null,
   "metadata": {
    "colab": {
     "base_uri": "https://localhost:8080/"
    },
    "id": "0e-Rbyr8sfM8",
    "outputId": "1f6c7e66-61bf-46d9-b80e-a020e72b002c"
   },
   "outputs": [
    {
     "name": "stdout",
     "output_type": "stream",
     "text": [
      "\n",
      " ',-.ABFGHIMORSTUabcdefghijklmnopqrstuvwxyz\n",
      "44\n"
     ]
    }
   ],
   "source": [
    "# here are all the unique characters that occur in this text\n",
    "chars = sorted(list(set(text)))\n",
    "vocab_size = len(chars)\n",
    "print(''.join(chars))\n",
    "print(vocab_size)"
   ]
  },
  {
   "cell_type": "code",
   "execution_count": null,
   "metadata": {
    "colab": {
     "base_uri": "https://localhost:8080/"
    },
    "id": "Yw1LKNCgwjj1",
    "outputId": "dfbca5c0-325b-4fe5-e4ae-c032b9a875c6"
   },
   "outputs": [
    {
     "name": "stdout",
     "output_type": "stream",
     "text": [
      "[25, 26, 26, 1, 37, 25, 22, 35, 22]\n",
      "hii there\n"
     ]
    }
   ],
   "source": [
    "# create a mapping from characters to integers\n",
    "stoi = { ch:i for i,ch in enumerate(chars) }\n",
    "itos = { i:ch for i,ch in enumerate(chars) }\n",
    "encode = lambda s: [stoi[c] for c in s] # encoder: take a string, output a list of integers\n",
    "decode = lambda l: ''.join([itos[i] for i in l]) # decoder: take a list of integers, output a string\n",
    "\n",
    "print(encode(\"hii there\"))\n",
    "print(decode(encode(\"hii there\")))"
   ]
  },
  {
   "cell_type": "code",
   "execution_count": null,
   "metadata": {
    "colab": {
     "base_uri": "https://localhost:8080/"
    },
    "id": "YJb0OXPwzvqg",
    "outputId": "149df7a8-977e-4aca-a2a4-578fbbac06af"
   },
   "outputs": [
    {
     "name": "stdout",
     "output_type": "stream",
     "text": [
      "torch.Size([2773]) torch.int64\n",
      "tensor([11,  1, 39, 26, 36, 26, 37, 22, 21,  1,  6, 38, 36, 37, 35, 18, 29, 26,\n",
      "        18,  1, 37, 25, 26, 36,  1, 42, 22, 18, 35,  3,  1, 18,  1, 29, 18, 31,\n",
      "        21,  1, 32, 23,  1, 18, 36, 37, 32, 31, 26, 36, 25, 26, 31, 24,  1, 20,\n",
      "        32, 31, 37, 35, 18, 36, 37, 36,  1, 18, 31, 21,  1, 36, 33, 22, 20, 37,\n",
      "        18, 20, 38, 29, 18, 35,  1, 19, 22, 18, 38, 37, 42,  5,  1,  6, 30, 26,\n",
      "        21, 36, 37,  1, 37, 25, 22,  1, 39, 18])\n"
     ]
    }
   ],
   "source": [
    "# let's now encode the entire text dataset and store it into a torch.Tensor\n",
    "import torch # we use PyTorch: https://pytorch.org\n",
    "data = torch.tensor(encode(text), dtype=torch.long)\n",
    "print(data.shape, data.dtype)\n",
    "print(data[:100]) # the 100 characters we looked at earier will to the GPT look like this"
   ]
  },
  {
   "cell_type": "code",
   "execution_count": null,
   "metadata": {
    "id": "f_WIXqxz0lU5"
   },
   "outputs": [],
   "source": [
    "# Let's now split up the data into train and validation sets\n",
    "n = int(0.9*len(data)) # first 90% will be train, rest val\n",
    "train_data = data[:n]\n",
    "val_data = data[n:]"
   ]
  },
  {
   "cell_type": "code",
   "execution_count": null,
   "metadata": {
    "colab": {
     "base_uri": "https://localhost:8080/"
    },
    "id": "TD5Bj8Y6IAD4",
    "outputId": "905c50bb-753d-42c9-fb94-9408dcc4bc89"
   },
   "outputs": [
    {
     "data": {
      "text/plain": [
       "tensor([11,  1, 39, 26, 36, 26, 37, 22, 21])"
      ]
     },
     "execution_count": 8,
     "metadata": {},
     "output_type": "execute_result"
    }
   ],
   "source": [
    "block_size = 8\n",
    "train_data[:block_size+1]"
   ]
  },
  {
   "cell_type": "code",
   "execution_count": null,
   "metadata": {
    "colab": {
     "base_uri": "https://localhost:8080/"
    },
    "id": "9HXDe8vGJCEn",
    "outputId": "053e9b69-fe86-42c8-f8d4-10de219c1369"
   },
   "outputs": [
    {
     "name": "stdout",
     "output_type": "stream",
     "text": [
      "when input is tensor([11]) the target: 1\n",
      "when input is tensor([11,  1]) the target: 39\n",
      "when input is tensor([11,  1, 39]) the target: 26\n",
      "when input is tensor([11,  1, 39, 26]) the target: 36\n",
      "when input is tensor([11,  1, 39, 26, 36]) the target: 26\n",
      "when input is tensor([11,  1, 39, 26, 36, 26]) the target: 37\n",
      "when input is tensor([11,  1, 39, 26, 36, 26, 37]) the target: 22\n",
      "when input is tensor([11,  1, 39, 26, 36, 26, 37, 22]) the target: 21\n"
     ]
    }
   ],
   "source": [
    "x = train_data[:block_size]\n",
    "y = train_data[1:block_size+1]\n",
    "for t in range(block_size):\n",
    "    context = x[:t+1]\n",
    "    target = y[t]\n",
    "    print(f\"when input is {context} the target: {target}\")"
   ]
  },
  {
   "cell_type": "code",
   "execution_count": null,
   "metadata": {
    "colab": {
     "base_uri": "https://localhost:8080/"
    },
    "id": "Q3k1Czf7LuA9",
    "outputId": "a1724807-724c-4460-97ba-39c5e3cfed5e"
   },
   "outputs": [
    {
     "name": "stdout",
     "output_type": "stream",
     "text": [
      "inputs:\n",
      "torch.Size([4, 8])\n",
      "tensor([[ 1, 37, 25, 26, 36,  1, 42, 22],\n",
      "        [ 1, 36, 40, 18, 42, 26, 31, 24],\n",
      "        [32, 23,  1, 18, 36, 37, 32, 31],\n",
      "        [36,  1, 37, 32,  1, 37, 25, 22]])\n",
      "targets:\n",
      "torch.Size([4, 8])\n",
      "tensor([[37, 25, 26, 36,  1, 42, 22, 18],\n",
      "        [36, 40, 18, 42, 26, 31, 24,  1],\n",
      "        [23,  1, 18, 36, 37, 32, 31, 26],\n",
      "        [ 1, 37, 32,  1, 37, 25, 22,  1]])\n",
      "----\n",
      "when input is [1] the target: 37\n",
      "when input is [1, 37] the target: 25\n",
      "when input is [1, 37, 25] the target: 26\n",
      "when input is [1, 37, 25, 26] the target: 36\n",
      "when input is [1, 37, 25, 26, 36] the target: 1\n",
      "when input is [1, 37, 25, 26, 36, 1] the target: 42\n",
      "when input is [1, 37, 25, 26, 36, 1, 42] the target: 22\n",
      "when input is [1, 37, 25, 26, 36, 1, 42, 22] the target: 18\n",
      "when input is [1] the target: 36\n",
      "when input is [1, 36] the target: 40\n",
      "when input is [1, 36, 40] the target: 18\n",
      "when input is [1, 36, 40, 18] the target: 42\n",
      "when input is [1, 36, 40, 18, 42] the target: 26\n",
      "when input is [1, 36, 40, 18, 42, 26] the target: 31\n",
      "when input is [1, 36, 40, 18, 42, 26, 31] the target: 24\n",
      "when input is [1, 36, 40, 18, 42, 26, 31, 24] the target: 1\n",
      "when input is [32] the target: 23\n",
      "when input is [32, 23] the target: 1\n",
      "when input is [32, 23, 1] the target: 18\n",
      "when input is [32, 23, 1, 18] the target: 36\n",
      "when input is [32, 23, 1, 18, 36] the target: 37\n",
      "when input is [32, 23, 1, 18, 36, 37] the target: 32\n",
      "when input is [32, 23, 1, 18, 36, 37, 32] the target: 31\n",
      "when input is [32, 23, 1, 18, 36, 37, 32, 31] the target: 26\n",
      "when input is [36] the target: 1\n",
      "when input is [36, 1] the target: 37\n",
      "when input is [36, 1, 37] the target: 32\n",
      "when input is [36, 1, 37, 32] the target: 1\n",
      "when input is [36, 1, 37, 32, 1] the target: 37\n",
      "when input is [36, 1, 37, 32, 1, 37] the target: 25\n",
      "when input is [36, 1, 37, 32, 1, 37, 25] the target: 22\n",
      "when input is [36, 1, 37, 32, 1, 37, 25, 22] the target: 1\n"
     ]
    }
   ],
   "source": [
    "torch.manual_seed(1337)\n",
    "batch_size = 4 # how many independent sequences will we process in parallel?\n",
    "block_size = 8 # what is the maximum context length for predictions?\n",
    "\n",
    "def get_batch(split):\n",
    "    # generate a small batch of data of inputs x and targets y\n",
    "    data = train_data if split == 'train' else val_data\n",
    "    ix = torch.randint(len(data) - block_size, (batch_size,))\n",
    "    x = torch.stack([data[i:i+block_size] for i in ix])\n",
    "    y = torch.stack([data[i+1:i+block_size+1] for i in ix])\n",
    "    return x, y\n",
    "\n",
    "xb, yb = get_batch('train')\n",
    "print('inputs:')\n",
    "print(xb.shape)\n",
    "print(xb)\n",
    "print('targets:')\n",
    "print(yb.shape)\n",
    "print(yb)\n",
    "\n",
    "print('----')\n",
    "\n",
    "for b in range(batch_size): # batch dimension\n",
    "    for t in range(block_size): # time dimension\n",
    "        context = xb[b, :t+1]\n",
    "        target = yb[b,t]\n",
    "        print(f\"when input is {context.tolist()} the target: {target}\")"
   ]
  },
  {
   "cell_type": "code",
   "execution_count": null,
   "metadata": {
    "colab": {
     "base_uri": "https://localhost:8080/"
    },
    "id": "qpyyAeIzQjlO",
    "outputId": "7cbd2350-07f0-4fd8-8f77-23dc74c76951"
   },
   "outputs": [
    {
     "name": "stdout",
     "output_type": "stream",
     "text": [
      "tensor([[ 1, 37, 25, 26, 36,  1, 42, 22],\n",
      "        [ 1, 36, 40, 18, 42, 26, 31, 24],\n",
      "        [32, 23,  1, 18, 36, 37, 32, 31],\n",
      "        [36,  1, 37, 32,  1, 37, 25, 22]])\n"
     ]
    }
   ],
   "source": [
    "print(xb) # our input to the transformer"
   ]
  },
  {
   "cell_type": "code",
   "execution_count": null,
   "metadata": {
    "colab": {
     "base_uri": "https://localhost:8080/"
    },
    "id": "nql_1ER53oCf",
    "outputId": "6b7df8c7-50c9-4e1f-c682-a79dad215748"
   },
   "outputs": [
    {
     "name": "stdout",
     "output_type": "stream",
     "text": [
      "torch.Size([32, 44])\n",
      "tensor(4.2122, grad_fn=<NllLossBackward0>)\n",
      "\n",
      "dbR\n",
      "AS.,tn.ocrxevAu'nS.gMvF'drFM\n",
      "vTn.fTgjnbBaIFS.cRilre.vav,bB.oFh-S.axwUkAreFtgu,MUs rSuu''o ArvrRi\n"
     ]
    }
   ],
   "source": [
    "import torch\n",
    "import torch.nn as nn\n",
    "from torch.nn import functional as F\n",
    "torch.manual_seed(1337)\n",
    "\n",
    "class BigramLanguageModel(nn.Module):\n",
    "\n",
    "    def __init__(self, vocab_size):\n",
    "        super().__init__()\n",
    "        # each token directly reads off the logits for the next token from a lookup table\n",
    "        self.token_embedding_table = nn.Embedding(vocab_size, vocab_size)\n",
    "\n",
    "    def forward(self, idx, targets=None):\n",
    "\n",
    "        # idx and targets are both (B,T) tensor of integers\n",
    "        logits = self.token_embedding_table(idx) # (B,T,C)\n",
    "\n",
    "        if targets is None:\n",
    "            loss = None\n",
    "        else:\n",
    "            B, T, C = logits.shape\n",
    "            logits = logits.view(B*T, C)\n",
    "            targets = targets.view(B*T)\n",
    "            loss = F.cross_entropy(logits, targets)\n",
    "\n",
    "        return logits, loss\n",
    "\n",
    "    def generate(self, idx, max_new_tokens):\n",
    "        # idx is (B, T) array of indices in the current context\n",
    "        for _ in range(max_new_tokens):\n",
    "            # get the predictions\n",
    "            logits, loss = self(idx)\n",
    "            # focus only on the last time step\n",
    "            logits = logits[:, -1, :] # becomes (B, C)\n",
    "            # apply softmax to get probabilities\n",
    "            probs = F.softmax(logits, dim=-1) # (B, C)\n",
    "            # sample from the distribution\n",
    "            idx_next = torch.multinomial(probs, num_samples=1) # (B, 1)\n",
    "            # append sampled index to the running sequence\n",
    "            idx = torch.cat((idx, idx_next), dim=1) # (B, T+1)\n",
    "        return idx\n",
    "\n",
    "m = BigramLanguageModel(vocab_size)\n",
    "logits, loss = m(xb, yb)\n",
    "print(logits.shape)\n",
    "print(loss)\n",
    "\n",
    "print(decode(m.generate(idx = torch.zeros((1, 1), dtype=torch.long), max_new_tokens=100)[0].tolist()))\n"
   ]
  },
  {
   "cell_type": "code",
   "execution_count": null,
   "metadata": {
    "id": "eTyJ8qAaDdiF"
   },
   "outputs": [],
   "source": [
    "# create a PyTorch optimizer\n",
    "optimizer = torch.optim.AdamW(m.parameters(), lr=1e-3)"
   ]
  },
  {
   "cell_type": "code",
   "execution_count": null,
   "metadata": {
    "colab": {
     "base_uri": "https://localhost:8080/"
    },
    "id": "Hs4kI8YdEkQj",
    "outputId": "f5cb785a-359a-4e61-e97a-bdc0a2c2becd"
   },
   "outputs": [
    {
     "name": "stdout",
     "output_type": "stream",
     "text": [
      "4.197262287139893\n"
     ]
    }
   ],
   "source": [
    "batch_size = 32\n",
    "for steps in range(100): # increase number of steps for good results...\n",
    "\n",
    "    # sample a batch of data\n",
    "    xb, yb = get_batch('train')\n",
    "\n",
    "    # evaluate the loss\n",
    "    logits, loss = m(xb, yb)\n",
    "    optimizer.zero_grad(set_to_none=True)\n",
    "    loss.backward()\n",
    "    optimizer.step()\n",
    "\n",
    "print(loss.item())\n"
   ]
  },
  {
   "cell_type": "code",
   "execution_count": null,
   "metadata": {
    "colab": {
     "base_uri": "https://localhost:8080/"
    },
    "id": "EcVIDWAZEtjN",
    "outputId": "16512bcd-28de-4d0b-a181-da04682a9ca2"
   },
   "outputs": [
    {
     "name": "stdout",
     "output_type": "stream",
     "text": [
      "\n",
      "edmoqOIlSthM-uS\n",
      "MohFtB'oxRzHbRIgsFH.MxUucrGtBazS.Fp,dGyeAu'ipAOrzbUn\n",
      "S. HgahRdUHvkvIorgc,\n",
      "mhn-nHxdrrttHsGUwcsFuvex kh,OpTAz.HlFsqO\n",
      "S.OIT-FassAqoetH SwtHmy-a.cd\n",
      "nrTyfgfsc GhTzkvargsF'sqb.Iw\n",
      "qvH-FFS.vHauymoi spITfohF'yveocAhlalF G-aSp, GxreI-btMq,nAxIFBS. s.rj AHugs\n",
      "S.rxe GhUq'ocqbyrGAMmyr' GqvH-iGgvplxaqbrgbqR\n",
      "nqBSamejnSs.bTgG\n",
      "SwTgtFg HHwrFGxhrGxiBah-OIRilgtphspIOyvARlBnBSIoHzhRBrTgmRvhwrxu,\n",
      "nrb,MbR\n",
      "n,ns k'xTguyr,pROfTFvr'rOftFFB\n",
      "nyHa ahhltGUABBS.\n",
      "yrgsdMpihxrbymUylpcActuizS.sqMfT,pTB\n",
      "tTmAsqGx, sq\n"
     ]
    }
   ],
   "source": [
    "print(decode(m.generate(idx = torch.zeros((1, 1), dtype=torch.long), max_new_tokens=500)[0].tolist()))"
   ]
  },
  {
   "cell_type": "markdown",
   "metadata": {
    "id": "XinV8nmAnmKN"
   },
   "source": [
    "## The mathematical trick in self-attention"
   ]
  },
  {
   "cell_type": "code",
   "execution_count": null,
   "metadata": {
    "colab": {
     "base_uri": "https://localhost:8080/"
    },
    "id": "tukiH-NbRBhA",
    "outputId": "0243a227-2404-444f-f24a-72ac04e68cb4"
   },
   "outputs": [
    {
     "name": "stdout",
     "output_type": "stream",
     "text": [
      "a=\n",
      "tensor([[1.0000, 0.0000, 0.0000],\n",
      "        [0.5000, 0.5000, 0.0000],\n",
      "        [0.3333, 0.3333, 0.3333]])\n",
      "--\n",
      "b=\n",
      "tensor([[2., 7.],\n",
      "        [6., 4.],\n",
      "        [6., 5.]])\n",
      "--\n",
      "c=\n",
      "tensor([[2.0000, 7.0000],\n",
      "        [4.0000, 5.5000],\n",
      "        [4.6667, 5.3333]])\n"
     ]
    }
   ],
   "source": [
    "# toy example illustrating how matrix multiplication can be used for a \"weighted aggregation\"\n",
    "torch.manual_seed(42)\n",
    "a = torch.tril(torch.ones(3, 3))\n",
    "a = a / torch.sum(a, 1, keepdim=True)\n",
    "b = torch.randint(0,10,(3,2)).float()\n",
    "c = a @ b\n",
    "print('a=')\n",
    "print(a)\n",
    "print('--')\n",
    "print('b=')\n",
    "print(b)\n",
    "print('--')\n",
    "print('c=')\n",
    "print(c)"
   ]
  },
  {
   "cell_type": "code",
   "execution_count": null,
   "metadata": {
    "colab": {
     "base_uri": "https://localhost:8080/"
    },
    "id": "Hs_E24uRE8kr",
    "outputId": "89d75b47-cd79-4ec5-d760-91cf7fc9a1c2"
   },
   "outputs": [
    {
     "data": {
      "text/plain": [
       "torch.Size([4, 8, 2])"
      ]
     },
     "execution_count": 17,
     "metadata": {},
     "output_type": "execute_result"
    }
   ],
   "source": [
    "# consider the following toy example:\n",
    "\n",
    "torch.manual_seed(1337)\n",
    "B,T,C = 4,8,2 # batch, time, channels\n",
    "x = torch.randn(B,T,C)\n",
    "x.shape"
   ]
  },
  {
   "cell_type": "code",
   "execution_count": null,
   "metadata": {
    "id": "86NuXX0fn7ps"
   },
   "outputs": [],
   "source": [
    "# We want x[b,t] = mean_{i<=t} x[b,i]\n",
    "xbow = torch.zeros((B,T,C))\n",
    "for b in range(B):\n",
    "    for t in range(T):\n",
    "        xprev = x[b,:t+1] # (t,C)\n",
    "        xbow[b,t] = torch.mean(xprev, 0)\n"
   ]
  },
  {
   "cell_type": "code",
   "execution_count": null,
   "metadata": {
    "colab": {
     "base_uri": "https://localhost:8080/"
    },
    "id": "yhdOAd6-wXkZ",
    "outputId": "81b0dcb7-56ba-4ddf-93fb-880bf140dfad"
   },
   "outputs": [
    {
     "data": {
      "text/plain": [
       "False"
      ]
     },
     "execution_count": 19,
     "metadata": {},
     "output_type": "execute_result"
    }
   ],
   "source": [
    "# version 2: using matrix multiply for a weighted aggregation\n",
    "wei = torch.tril(torch.ones(T, T))\n",
    "wei = wei / wei.sum(1, keepdim=True)\n",
    "xbow2 = wei @ x # (B, T, T) @ (B, T, C) ----> (B, T, C)\n",
    "torch.allclose(xbow, xbow2)"
   ]
  },
  {
   "cell_type": "code",
   "execution_count": null,
   "metadata": {
    "colab": {
     "base_uri": "https://localhost:8080/"
    },
    "id": "wOURrfG-ysoL",
    "outputId": "a782cae7-f839-4792-bb68-ba90245f4258"
   },
   "outputs": [
    {
     "data": {
      "text/plain": [
       "False"
      ]
     },
     "execution_count": 20,
     "metadata": {},
     "output_type": "execute_result"
    }
   ],
   "source": [
    "# version 3: use Softmax\n",
    "tril = torch.tril(torch.ones(T, T))\n",
    "wei = torch.zeros((T,T))\n",
    "wei = wei.masked_fill(tril == 0, float('-inf'))\n",
    "wei = F.softmax(wei, dim=-1)\n",
    "xbow3 = wei @ x\n",
    "torch.allclose(xbow, xbow3)\n"
   ]
  },
  {
   "cell_type": "code",
   "execution_count": null,
   "metadata": {
    "colab": {
     "base_uri": "https://localhost:8080/"
    },
    "id": "EDarxEWIRMKq",
    "outputId": "74183e27-7d5a-4dc3-d8ec-d094b3a5a384"
   },
   "outputs": [
    {
     "data": {
      "text/plain": [
       "torch.Size([4, 8, 16])"
      ]
     },
     "execution_count": 21,
     "metadata": {},
     "output_type": "execute_result"
    }
   ],
   "source": [
    "# version 4: self-attention!\n",
    "torch.manual_seed(1337)\n",
    "B,T,C = 4,8,32 # batch, time, channels\n",
    "x = torch.randn(B,T,C)\n",
    "\n",
    "# let's see a single Head perform self-attention\n",
    "head_size = 16\n",
    "key = nn.Linear(C, head_size, bias=False)\n",
    "query = nn.Linear(C, head_size, bias=False)\n",
    "value = nn.Linear(C, head_size, bias=False)\n",
    "k = key(x)   # (B, T, 16)\n",
    "q = query(x) # (B, T, 16)\n",
    "wei =  q @ k.transpose(-2, -1) # (B, T, 16) @ (B, 16, T) ---> (B, T, T)\n",
    "\n",
    "tril = torch.tril(torch.ones(T, T))\n",
    "#wei = torch.zeros((T,T))\n",
    "wei = wei.masked_fill(tril == 0, float('-inf'))\n",
    "wei = F.softmax(wei, dim=-1)\n",
    "\n",
    "v = value(x)\n",
    "out = wei @ v\n",
    "#out = wei @ x\n",
    "\n",
    "out.shape"
   ]
  },
  {
   "cell_type": "code",
   "execution_count": null,
   "metadata": {
    "colab": {
     "base_uri": "https://localhost:8080/"
    },
    "id": "vT1hdtzXCjgL",
    "outputId": "392f1585-cc04-4df6-dd7e-aa5762eea6b5"
   },
   "outputs": [
    {
     "data": {
      "text/plain": [
       "tensor([[1.0000, 0.0000, 0.0000, 0.0000, 0.0000, 0.0000, 0.0000, 0.0000],\n",
       "        [0.1574, 0.8426, 0.0000, 0.0000, 0.0000, 0.0000, 0.0000, 0.0000],\n",
       "        [0.2088, 0.1646, 0.6266, 0.0000, 0.0000, 0.0000, 0.0000, 0.0000],\n",
       "        [0.5792, 0.1187, 0.1889, 0.1131, 0.0000, 0.0000, 0.0000, 0.0000],\n",
       "        [0.0294, 0.1052, 0.0469, 0.0276, 0.7909, 0.0000, 0.0000, 0.0000],\n",
       "        [0.0176, 0.2689, 0.0215, 0.0089, 0.6812, 0.0019, 0.0000, 0.0000],\n",
       "        [0.1691, 0.4066, 0.0438, 0.0416, 0.1048, 0.2012, 0.0329, 0.0000],\n",
       "        [0.0210, 0.0843, 0.0555, 0.2297, 0.0573, 0.0709, 0.2423, 0.2391]],\n",
       "       grad_fn=<SelectBackward0>)"
      ]
     },
     "execution_count": 22,
     "metadata": {},
     "output_type": "execute_result"
    }
   ],
   "source": [
    "wei[0]"
   ]
  },
  {
   "cell_type": "markdown",
   "metadata": {
    "id": "M5CvobiQ0pLr"
   },
   "source": [
    "Notes:\n",
    "- Attention is a **communication mechanism**. Can be seen as nodes in a directed graph looking at each other and aggregating information with a weighted sum from all nodes that point to them, with data-dependent weights.\n",
    "- There is no notion of space. Attention simply acts over a set of vectors. This is why we need to positionally encode tokens.\n",
    "- Each example across batch dimension is of course processed completely independently and never \"talk\" to each other\n",
    "- In an \"encoder\" attention block just delete the single line that does masking with `tril`, allowing all tokens to communicate. This block here is called a \"decoder\" attention block because it has triangular masking, and is usually used in autoregressive settings, like language modeling.\n",
    "- \"self-attention\" just means that the keys and values are produced from the same source as queries. In \"cross-attention\", the queries still get produced from x, but the keys and values come from some other, external source (e.g. an encoder module)\n",
    "- \"Scaled\" attention additional divides `wei` by 1/sqrt(head_size). This makes it so when input Q,K are unit variance, wei will be unit variance too and Softmax will stay diffuse and not saturate too much. Illustration below"
   ]
  },
  {
   "cell_type": "code",
   "execution_count": null,
   "metadata": {
    "id": "4SNbLq5z3oBw"
   },
   "outputs": [],
   "source": [
    "k = torch.randn(B,T,head_size)\n",
    "q = torch.randn(B,T,head_size)\n",
    "wei = q @ k.transpose(-2, -1) * head_size**-0.5"
   ]
  },
  {
   "cell_type": "code",
   "execution_count": null,
   "metadata": {
    "colab": {
     "base_uri": "https://localhost:8080/"
    },
    "id": "Nl6I9n9IRTSo",
    "outputId": "af29dd27-e985-41a2-bba5-0afe5af1b4d0"
   },
   "outputs": [
    {
     "data": {
      "text/plain": [
       "tensor(1.0449)"
      ]
     },
     "execution_count": 24,
     "metadata": {},
     "output_type": "execute_result"
    }
   ],
   "source": [
    "k.var()"
   ]
  },
  {
   "cell_type": "code",
   "execution_count": null,
   "metadata": {
    "colab": {
     "base_uri": "https://localhost:8080/"
    },
    "id": "T1tQx7oeRvtc",
    "outputId": "78ebf32a-f1d4-4b06-e0ce-74981c0d185d"
   },
   "outputs": [
    {
     "data": {
      "text/plain": [
       "tensor(1.0700)"
      ]
     },
     "execution_count": 25,
     "metadata": {},
     "output_type": "execute_result"
    }
   ],
   "source": [
    "q.var()"
   ]
  },
  {
   "cell_type": "code",
   "execution_count": null,
   "metadata": {
    "colab": {
     "base_uri": "https://localhost:8080/"
    },
    "id": "MLb_odHU3iKM",
    "outputId": "86867a10-02e1-4ca8-cd23-e312bf2d2b45"
   },
   "outputs": [
    {
     "data": {
      "text/plain": [
       "tensor(1.0918)"
      ]
     },
     "execution_count": 26,
     "metadata": {},
     "output_type": "execute_result"
    }
   ],
   "source": [
    "wei.var()"
   ]
  },
  {
   "cell_type": "code",
   "execution_count": null,
   "metadata": {
    "colab": {
     "base_uri": "https://localhost:8080/"
    },
    "id": "JB82yzt44REI",
    "outputId": "a9b7b45f-b4d1-4adc-e1f3-b936eb7f3c48"
   },
   "outputs": [
    {
     "data": {
      "text/plain": [
       "tensor([0.1925, 0.1426, 0.2351, 0.1426, 0.2872])"
      ]
     },
     "execution_count": 27,
     "metadata": {},
     "output_type": "execute_result"
    }
   ],
   "source": [
    "torch.softmax(torch.tensor([0.1, -0.2, 0.3, -0.2, 0.5]), dim=-1)"
   ]
  },
  {
   "cell_type": "code",
   "execution_count": null,
   "metadata": {
    "colab": {
     "base_uri": "https://localhost:8080/"
    },
    "id": "Mpt8569BB9_f",
    "outputId": "aeea73b2-286d-4a65-a71c-a8aa7da0bf45"
   },
   "outputs": [
    {
     "data": {
      "text/plain": [
       "tensor([0.0326, 0.0030, 0.1615, 0.0030, 0.8000])"
      ]
     },
     "execution_count": 28,
     "metadata": {},
     "output_type": "execute_result"
    }
   ],
   "source": [
    "torch.softmax(torch.tensor([0.1, -0.2, 0.3, -0.2, 0.5])*8, dim=-1) # gets too peaky, converges to one-hot"
   ]
  },
  {
   "cell_type": "code",
   "execution_count": null,
   "metadata": {
    "colab": {
     "base_uri": "https://localhost:8080/"
    },
    "id": "2Num7sX9CKOH",
    "outputId": "7eac237e-712b-4b3a-e47f-a4c9466129b7"
   },
   "outputs": [
    {
     "data": {
      "text/plain": [
       "torch.Size([32, 100])"
      ]
     },
     "execution_count": 29,
     "metadata": {},
     "output_type": "execute_result"
    }
   ],
   "source": [
    "class LayerNorm1d: # (used to be BatchNorm1d)\n",
    "\n",
    "  def __init__(self, dim, eps=1e-5, momentum=0.1):\n",
    "    self.eps = eps\n",
    "    self.gamma = torch.ones(dim)\n",
    "    self.beta = torch.zeros(dim)\n",
    "\n",
    "  def __call__(self, x):\n",
    "    # calculate the forward pass\n",
    "    xmean = x.mean(1, keepdim=True) # batch mean\n",
    "    xvar = x.var(1, keepdim=True) # batch variance\n",
    "    xhat = (x - xmean) / torch.sqrt(xvar + self.eps) # normalize to unit variance\n",
    "    self.out = self.gamma * xhat + self.beta\n",
    "    return self.out\n",
    "\n",
    "  def parameters(self):\n",
    "    return [self.gamma, self.beta]\n",
    "\n",
    "torch.manual_seed(1337)\n",
    "module = LayerNorm1d(100)\n",
    "x = torch.randn(32, 100) # batch size 32 of 100-dimensional vectors\n",
    "x = module(x)\n",
    "x.shape"
   ]
  },
  {
   "cell_type": "code",
   "execution_count": null,
   "metadata": {
    "colab": {
     "base_uri": "https://localhost:8080/"
    },
    "id": "633T2cmnW1uk",
    "outputId": "a4c35aae-2473-43db-c0fd-cf439517abc1"
   },
   "outputs": [
    {
     "data": {
      "text/plain": [
       "(tensor(0.1469), tensor(0.8803))"
      ]
     },
     "execution_count": 30,
     "metadata": {},
     "output_type": "execute_result"
    }
   ],
   "source": [
    "x[:,0].mean(), x[:,0].std() # mean,std of one feature across all batch inputs"
   ]
  },
  {
   "cell_type": "code",
   "execution_count": null,
   "metadata": {
    "colab": {
     "base_uri": "https://localhost:8080/"
    },
    "id": "LN9cK9BoXCYb",
    "outputId": "a4377f8e-ddc0-477b-9fdb-db9dbb202e48"
   },
   "outputs": [
    {
     "data": {
      "text/plain": [
       "(tensor(-9.5367e-09), tensor(1.0000))"
      ]
     },
     "execution_count": 31,
     "metadata": {},
     "output_type": "execute_result"
    }
   ],
   "source": [
    "x[0,:].mean(), x[0,:].std() # mean,std of a single input from the batch, of its features"
   ]
  },
  {
   "cell_type": "code",
   "execution_count": null,
   "metadata": {
    "id": "dRJH6wM_XFfU"
   },
   "outputs": [],
   "source": [
    "# French to English translation example:\n",
    "\n",
    "# <--------- ENCODE ------------------><--------------- DECODE ----------------->\n",
    "# les réseaux de neurones sont géniaux! <START> neural networks are awesome!<END>\n",
    "\n"
   ]
  },
  {
   "cell_type": "markdown",
   "metadata": {
    "id": "ZcvKeBXoZFOY"
   },
   "source": [
    "### Full finished code, for reference\n",
    "\n",
    "You may want to refer directly to the git repo instead though."
   ]
  },
  {
   "cell_type": "code",
   "execution_count": null,
   "metadata": {
    "colab": {
     "base_uri": "https://localhost:8080/"
    },
    "id": "hoelkOrFY8bN",
    "outputId": "5e8183c0-0fa4-4177-84ae-2072cdcc1b4a"
   },
   "outputs": [
    {
     "name": "stdout",
     "output_type": "stream",
     "text": [
      "0.20702 M parameters\n",
      "step 0: train loss 3.8550, val loss 3.8628\n",
      "step 50: train loss 2.5477, val loss 2.5837\n",
      "step 100: train loss 2.3986, val loss 2.4729\n",
      "step 150: train loss 2.3200, val loss 2.4507\n",
      "step 200: train loss 2.2653, val loss 2.4210\n",
      "step 250: train loss 2.1779, val loss 2.3862\n",
      "step 300: train loss 2.0855, val loss 2.3259\n",
      "step 350: train loss 1.9538, val loss 2.3579\n",
      "step 400: train loss 1.8035, val loss 2.3363\n",
      "step 450: train loss 1.6604, val loss 2.3881\n",
      "step 499: train loss 1.4750, val loss 2.4340\n",
      "\n",
      "\n",
      "\n",
      "SIled meling ounur j anaturf\n",
      "\n",
      "I the tave phestnceje. The Merovels thictanint f, healinve aspincessednc cendlurque. Gea Syilsptlm-, hearity ddre-chtraly's wanercitedly. The I vitcaned lbealespes red henchentrine's tef ourinng chise wite swigh anthan ssplpedy enescped the stthe tlue wander the ilndaeni rinisalped to wable the ai, eniocint lanan figanesting culliline, withrie wost aldrr wem by whe the tacontank rapec nforivef tsel's, wit-t-drery, wibonthe actedlic fidllive lbe dexpesti-ce sheribed linneng waertuge culbredle. Me womph atrditB sureng brineat the mindlly wire bea. The totrUlomend the she henchints ereef Uuriede a of the tage sencuptrest pestuMenve'me shtr ant spanfoforlis the table azme stgoHlde, beachulypar criptus lthe tazas tand deexpeccisent pereche. The ve mof boranonl tand randiculind maband toatrand banalisc haniwor, phed pelisesred beachdly off soreng the gotaz che intand dulin shene, couls withe and colenenck foreahig k llmusenss wep-chet, turontindenby azurine. I of the acowilen oan f rlue madsenck mam spand tolenss glenve, she, efvibor andlyscthenc wentand the rigenggen hen tusan wopldererche pichous lxpand serecint brined lulang anagesp. The wibre antypticrulyss thed braghe ut uenchint sinencilures, plurictued wa spenc e. The Thant iinrilf, ilidenos. sopic eref anver thotabnd he orajnest eenirmble hedine heng buentylusrexpanched chessed lusikHocypenc ptresedenming ach wof culs with antderougy's thobre octhe ezfoul tres bedancher enched pafulamal dlonctand nd lexpeccouresed bypauges blphochil wen atend denselaHone's the Oghe guyspihr ta the bue wind lin crelbeau, and of the itracul toralil cullal arand d on offourabd dnanarwter ofin andshe tfvit angale. The chast and dinirrpest. Thoutr spr she vivdnt octmest be anand ong undensensploturned the bue wau provesend anfilys the ancaptuli. Aryse thenis cultyptros bosend bant and klede, atuchely suremine's ghtaj Amedve cralstable peAser plmesend incrician dyptu. Mesc Ophesawend ountht ldegel whe per\n"
     ]
    }
   ],
   "source": [
    "import torch\n",
    "import torch.nn as nn\n",
    "from torch.nn import functional as F\n",
    "\n",
    "# hyperparameters\n",
    "batch_size = 16 # how many independent sequences will we process in parallel?\n",
    "block_size = 32 # what is the maximum context length for predictions?\n",
    "max_iters = 500\n",
    "eval_interval = 50\n",
    "learning_rate = 1e-3\n",
    "device = 'cuda' if torch.cuda.is_available() else 'cpu'\n",
    "eval_iters = 200\n",
    "n_embd = 64\n",
    "n_head = 4\n",
    "n_layer = 4\n",
    "dropout = 0.0\n",
    "# ------------\n",
    "\n",
    "torch.manual_seed(1337)\n",
    "\n",
    "# # wget https://raw.githubusercontent.com/karpathy/char-rnn/master/data/tinyshakespeare/input.txt\n",
    "# with open('input.txt', 'r', encoding='utf-8') as f:\n",
    "#     text = f.read()\n",
    "\n",
    "# here are all the unique characters that occur in this text\n",
    "chars = sorted(list(set(text)))\n",
    "vocab_size = len(chars)\n",
    "# create a mapping from characters to integers\n",
    "stoi = { ch:i for i,ch in enumerate(chars) }\n",
    "itos = { i:ch for i,ch in enumerate(chars) }\n",
    "encode = lambda s: [stoi[c] for c in s] # encoder: take a string, output a list of integers\n",
    "decode = lambda l: ''.join([itos[i] for i in l]) # decoder: take a list of integers, output a string\n",
    "\n",
    "# Train and test splits\n",
    "data = torch.tensor(encode(text), dtype=torch.long)\n",
    "n = int(0.9*len(data)) # first 90% will be train, rest val\n",
    "train_data = data[:n]\n",
    "val_data = data[n:]\n",
    "\n",
    "# data loading\n",
    "def get_batch(split):\n",
    "    # generate a small batch of data of inputs x and targets y\n",
    "    data = train_data if split == 'train' else val_data\n",
    "    ix = torch.randint(len(data) - block_size, (batch_size,))\n",
    "    x = torch.stack([data[i:i+block_size] for i in ix])\n",
    "    y = torch.stack([data[i+1:i+block_size+1] for i in ix])\n",
    "    x, y = x.to(device), y.to(device)\n",
    "    return x, y\n",
    "\n",
    "@torch.no_grad()\n",
    "def estimate_loss():\n",
    "    out = {}\n",
    "    model.eval()\n",
    "    for split in ['train', 'val']:\n",
    "        losses = torch.zeros(eval_iters)\n",
    "        for k in range(eval_iters):\n",
    "            X, Y = get_batch(split)\n",
    "            logits, loss = model(X, Y)\n",
    "            losses[k] = loss.item()\n",
    "        out[split] = losses.mean()\n",
    "    model.train()\n",
    "    return out\n",
    "\n",
    "class Head(nn.Module):\n",
    "    \"\"\" one head of self-attention \"\"\"\n",
    "\n",
    "    def __init__(self, head_size):\n",
    "        super().__init__()\n",
    "        self.key = nn.Linear(n_embd, head_size, bias=False)\n",
    "        self.query = nn.Linear(n_embd, head_size, bias=False)\n",
    "        self.value = nn.Linear(n_embd, head_size, bias=False)\n",
    "        self.register_buffer('tril', torch.tril(torch.ones(block_size, block_size)))\n",
    "\n",
    "        self.dropout = nn.Dropout(dropout)\n",
    "\n",
    "    def forward(self, x):\n",
    "        B,T,C = x.shape\n",
    "        k = self.key(x)   # (B,T,C)\n",
    "        q = self.query(x) # (B,T,C)\n",
    "        # compute attention scores (\"affinities\")\n",
    "        wei = q @ k.transpose(-2,-1) * C**-0.5 # (B, T, C) @ (B, C, T) -> (B, T, T)\n",
    "        wei = wei.masked_fill(self.tril[:T, :T] == 0, float('-inf')) # (B, T, T)\n",
    "        wei = F.softmax(wei, dim=-1) # (B, T, T)\n",
    "        wei = self.dropout(wei)\n",
    "        # perform the weighted aggregation of the values\n",
    "        v = self.value(x) # (B,T,C)\n",
    "        out = wei @ v # (B, T, T) @ (B, T, C) -> (B, T, C)\n",
    "        return out\n",
    "\n",
    "class MultiHeadAttention(nn.Module):\n",
    "    \"\"\" multiple heads of self-attention in parallel \"\"\"\n",
    "\n",
    "    def __init__(self, num_heads, head_size):\n",
    "        super().__init__()\n",
    "        self.heads = nn.ModuleList([Head(head_size) for _ in range(num_heads)])\n",
    "        self.proj = nn.Linear(n_embd, n_embd)\n",
    "        self.dropout = nn.Dropout(dropout)\n",
    "\n",
    "    def forward(self, x):\n",
    "        out = torch.cat([h(x) for h in self.heads], dim=-1)\n",
    "        out = self.dropout(self.proj(out))\n",
    "        return out\n",
    "\n",
    "class FeedFoward(nn.Module):\n",
    "    \"\"\" a simple linear layer followed by a non-linearity \"\"\"\n",
    "\n",
    "    def __init__(self, n_embd):\n",
    "        super().__init__()\n",
    "        self.net = nn.Sequential(\n",
    "            nn.Linear(n_embd, 4 * n_embd),\n",
    "            nn.ReLU(),\n",
    "            nn.Linear(4 * n_embd, n_embd),\n",
    "            nn.Dropout(dropout),\n",
    "        )\n",
    "\n",
    "    def forward(self, x):\n",
    "        return self.net(x)\n",
    "\n",
    "class Block(nn.Module):\n",
    "    \"\"\" Transformer block: communication followed by computation \"\"\"\n",
    "\n",
    "    def __init__(self, n_embd, n_head):\n",
    "        # n_embd: embedding dimension, n_head: the number of heads we'd like\n",
    "        super().__init__()\n",
    "        head_size = n_embd // n_head\n",
    "        self.sa = MultiHeadAttention(n_head, head_size)\n",
    "        self.ffwd = FeedFoward(n_embd)\n",
    "        self.ln1 = nn.LayerNorm(n_embd)\n",
    "        self.ln2 = nn.LayerNorm(n_embd)\n",
    "\n",
    "    def forward(self, x):\n",
    "        x = x + self.sa(self.ln1(x))\n",
    "        x = x + self.ffwd(self.ln2(x))\n",
    "        return x\n",
    "\n",
    "# super simple bigram model\n",
    "class BigramLanguageModel(nn.Module):\n",
    "\n",
    "    def __init__(self):\n",
    "        super().__init__()\n",
    "        # each token directly reads off the logits for the next token from a lookup table\n",
    "        self.token_embedding_table = nn.Embedding(vocab_size, n_embd)\n",
    "        self.position_embedding_table = nn.Embedding(block_size, n_embd)\n",
    "        self.blocks = nn.Sequential(*[Block(n_embd, n_head=n_head) for _ in range(n_layer)])\n",
    "        self.ln_f = nn.LayerNorm(n_embd) # final layer norm\n",
    "        self.lm_head = nn.Linear(n_embd, vocab_size)\n",
    "\n",
    "    def forward(self, idx, targets=None):\n",
    "        B, T = idx.shape\n",
    "\n",
    "        # idx and targets are both (B,T) tensor of integers\n",
    "        tok_emb = self.token_embedding_table(idx) # (B,T,C)\n",
    "        pos_emb = self.position_embedding_table(torch.arange(T, device=device)) # (T,C)\n",
    "        x = tok_emb + pos_emb # (B,T,C)\n",
    "        x = self.blocks(x) # (B,T,C)\n",
    "        x = self.ln_f(x) # (B,T,C)\n",
    "        logits = self.lm_head(x) # (B,T,vocab_size)\n",
    "\n",
    "        if targets is None:\n",
    "            loss = None\n",
    "        else:\n",
    "            B, T, C = logits.shape\n",
    "            logits = logits.view(B*T, C)\n",
    "            targets = targets.view(B*T)\n",
    "            loss = F.cross_entropy(logits, targets)\n",
    "\n",
    "        return logits, loss\n",
    "\n",
    "    def generate(self, idx, max_new_tokens):\n",
    "        # idx is (B, T) array of indices in the current context\n",
    "        for _ in range(max_new_tokens):\n",
    "            # crop idx to the last block_size tokens\n",
    "            idx_cond = idx[:, -block_size:]\n",
    "            # get the predictions\n",
    "            logits, loss = self(idx_cond)\n",
    "            # focus only on the last time step\n",
    "            logits = logits[:, -1, :] # becomes (B, C)\n",
    "            # apply softmax to get probabilities\n",
    "            probs = F.softmax(logits, dim=-1) # (B, C)\n",
    "            # sample from the distribution\n",
    "            idx_next = torch.multinomial(probs, num_samples=1) # (B, 1)\n",
    "            # append sampled index to the running sequence\n",
    "            idx = torch.cat((idx, idx_next), dim=1) # (B, T+1)\n",
    "        return idx\n",
    "\n",
    "model = BigramLanguageModel()\n",
    "m = model.to(device)\n",
    "# print the number of parameters in the model\n",
    "print(sum(p.numel() for p in m.parameters())/1e6, 'M parameters')\n",
    "\n",
    "# create a PyTorch optimizer\n",
    "optimizer = torch.optim.AdamW(model.parameters(), lr=learning_rate)\n",
    "\n",
    "for iter in range(max_iters):\n",
    "\n",
    "    # every once in a while evaluate the loss on train and val sets\n",
    "    if iter % eval_interval == 0 or iter == max_iters - 1:\n",
    "        losses = estimate_loss()\n",
    "        print(f\"step {iter}: train loss {losses['train']:.4f}, val loss {losses['val']:.4f}\")\n",
    "\n",
    "    # sample a batch of data\n",
    "    xb, yb = get_batch('train')\n",
    "\n",
    "    # evaluate the loss\n",
    "    logits, loss = model(xb, yb)\n",
    "    optimizer.zero_grad(set_to_none=True)\n",
    "    loss.backward()\n",
    "    optimizer.step()\n",
    "\n",
    "# generate from the model\n",
    "context = torch.zeros((1, 1), dtype=torch.long, device=device)\n",
    "print(decode(m.generate(context, max_new_tokens=2000)[0].tolist()))\n"
   ]
  },
  {
   "cell_type": "code",
   "execution_count": null,
   "metadata": {
    "colab": {
     "base_uri": "https://localhost:8080/",
     "height": 105
    },
    "id": "44DEO3FuKxp5",
    "outputId": "2f78e383-3804-45cc-8841-6de6c45dab21"
   },
   "outputs": [
    {
     "data": {
      "application/vnd.google.colaboratory.intrinsic+json": {
       "type": "string"
      },
      "text/plain": [
       "\"I visited Australia this year, a land of astonishing contrasts and spectacular beauty. Amidst the vast, sun-drenched landscapes, I found myself mesmerized by the rich tapestry of colors and textures. The azure skies stretched endlessly above, while the golden beaches sparkled under the radiant sun. I explored the lush, verdant rainforests, teeming with vibrant wildlife and exotic flora. The chorus of birdsong filled the air, creating a symphony of natural sounds that was both enchanting and soothing.In the heart of the country, I witnessed the majestic Uluru, a colossal red rock formation that rose dramatically from the flat, arid desert. Its sheer size and deep, fiery hues were a breathtaking sight, especially during sunset when the rock seemed to glow with an otherworldly light. The sacredness of this ancient landmark was palpable, and I felt a profound sense of awe and respect for the indigenous cultures that have revered it for millennia.As I traveled along the rugged coastline, I encountered picturesque, azure bays and serene, turquoise lagoons, each offering a unique and idyllic escape. The pristine, white sandy beaches were fringed with swaying palm trees, and the crystal-clear waters invited me to dive into an underwater paradise. The Great Barrier Reef, a kaleidoscopic wonderland of corals and marine life, was an unforgettable experience. The myriad of colors and the graceful dance of the fish amidst the corals were a testament to the beauty and fragility of our natural world.In the bustling, cosmopolitan cities, I was captivated by the vibrant, multicultural atmosphere. Sydney, with its iconic Opera House and stunning harbor, was a feast for the eyes. The city's architectural marvels juxtaposed with the serene beauty of the botanical gardens created a harmonious blend of urban and natural landscapes. Melbourne's art-filled laneways, brimming with creative energy, showcased the country's thriving cultural scene. The aromatic scents of diverse cuisines wafted through the air, inviting me to indulge in a culinary adventure.The Australian wildlife was another highlight of my journey. From the adorable, cuddly koalas perched high in the eucalyptus trees to the bounding kangaroos in the bushland, each encounter was a delightful surprise. The vibrant, iridescent plumage of the parrots and the elusive, nocturnal wombat added to the enchantment of the Australian fauna.Throughout my travels, the warmth and friendliness of the Australian people were ever-present. Their laid-back, welcoming nature made me feel at home in this distant land. The stories and laughter shared with locals enriched my experience, leaving me with cherished memories and a deep appreciation for the diverse and captivating beauty of Australia.\""
      ]
     },
     "execution_count": 39,
     "metadata": {},
     "output_type": "execute_result"
    }
   ],
   "source": [
    "text"
   ]
  },
  {
   "cell_type": "code",
   "execution_count": null,
   "metadata": {
    "colab": {
     "base_uri": "https://localhost:8080/"
    },
    "id": "ab8RdTErKlOs",
    "outputId": "4fd6a48f-9be9-4bc4-ef6f-647077cb43fb"
   },
   "outputs": [
    {
     "name": "stdout",
     "output_type": "stream",
     "text": [
      "\n",
      "AI froustlil an expecerecampe. Thacapalies juntrysed pexfond the the raches ilu anandy. Thropos shazand k seatuneng beactusped undlypoopersysss chesss pecitcespectlped scic icheser bocuned ay kbaled a\n"
     ]
    }
   ],
   "source": [
    "context = torch.zeros((1, 1), dtype=torch.long, device=device)\n",
    "print(decode(m.generate(context, max_new_tokens=200)[0].tolist()))\n"
   ]
  },
  {
   "cell_type": "code",
   "execution_count": null,
   "metadata": {
    "id": "2Oz4hzd-LqFR"
   },
   "outputs": [],
   "source": [
    "import numpy as np\n",
    "\n",
    "# Define the input text\n",
    "input_text = \"Hello, world!\"\n",
    "\n",
    "# Check if a GPU is available and use it; otherwise, use the CPU\n",
    "device = 'cuda' if torch.cuda.is_available() else 'cpu'\n",
    "\n",
    "# Encode the input text using your model's tokenizer or character-to-index mapping (stoi)\n",
    "# Ensure that only characters present in 'stoi' are encoded\n",
    "encoded_input = [stoi[c] for c in input_text if c in stoi]\n",
    "\n",
    "# Convert the encoded input to a PyTorch tensor and move it to the specified device\n",
    "idx = torch.tensor([encoded_input], dtype=torch.long).to(device)\n"
   ]
  },
  {
   "cell_type": "code",
   "execution_count": null,
   "metadata": {
    "colab": {
     "base_uri": "https://localhost:8080/"
    },
    "id": "fjjvMifYZf7x",
    "outputId": "85935648-c534-45fa-cf30-bd352048fea4"
   },
   "outputs": [
    {
     "name": "stdout",
     "output_type": "stream",
     "text": [
      "Token: e, Probability: 0.3016\n",
      "Token: d, Probability: 0.1372\n",
      "Token: s, Probability: 0.1034\n",
      "Token:  , Probability: 0.0813\n",
      "Token: a, Probability: 0.0762\n"
     ]
    }
   ],
   "source": [
    "\n",
    "# Assume 'idx' is your input context tensor\n",
    "logits, _ = model(idx)  # Forward pass\n",
    "probabilities = F.softmax(logits, dim=-1)\n",
    "\n",
    "# Analyze the distribution at a specific position (e.g., the last token)\n",
    "position = -1  # Last token in the sequence\n",
    "token_probs = probabilities[0, position].detach().cpu().numpy()\n",
    "\n",
    "# Example: Print the top 5 most likely tokens and their probabilities\n",
    "topk = 5\n",
    "topk_indices = np.argsort(token_probs)[-topk:][::-1]\n",
    "for i in topk_indices:\n",
    "    token = decode([i])\n",
    "    prob = token_probs[i]\n",
    "    print(f\"Token: {token}, Probability: {prob:.4f}\")\n"
   ]
  },
  {
   "cell_type": "code",
   "execution_count": null,
   "metadata": {
    "colab": {
     "base_uri": "https://localhost:8080/",
     "height": 755
    },
    "id": "_Zsaz9vCMpfK",
    "outputId": "c4f7d3ab-efa9-4d10-cd17-fdab2d43b1af"
   },
   "outputs": [
    {
     "data": {
      "image/png": "[encoded data removed]",
      "text/plain": [
       "<Figure size 1000x600 with 1 Axes>"
      ]
     },
     "metadata": {},
     "output_type": "display_data"
    },
    {
     "name": "stdout",
     "output_type": "stream",
     "text": [
      "  Token  Probability\n",
      "0     r     0.286402\n",
      "1     o     0.261101\n",
      "2     u     0.127522\n",
      "3     h     0.096910\n",
      "4     i     0.074960\n",
      "5     e     0.035941\n",
      "6     t     0.035257\n",
      "7     a     0.027940\n",
      "8     m     0.010604\n",
      "9     l     0.009653\n"
     ]
    }
   ],
   "source": [
    "import torch\n",
    "import matplotlib.pyplot as plt\n",
    "import pandas as pd\n",
    "\n",
    "def visualize_probabilities(model, idx, stoi, itos, top_k=10):\n",
    "    # Forward pass to get logits\n",
    "    logits, _ = model(idx)\n",
    "    # Convert logits to probabilities\n",
    "    probabilities = torch.softmax(logits, dim=-1)\n",
    "\n",
    "    # Focus on the last time step\n",
    "    last_step_probs = probabilities[0, -1].detach().cpu().numpy()\n",
    "\n",
    "    # Get top K probabilities and corresponding tokens\n",
    "    topk_prob, topk_indices = torch.topk(probabilities[0, -1], top_k)\n",
    "    topk_prob = topk_prob.detach().cpu().numpy()\n",
    "    topk_tokens = [itos[i] for i in topk_indices.cpu().numpy()]\n",
    "\n",
    "    # Plotting\n",
    "    plt.figure(figsize=(10, 6))\n",
    "    plt.bar(topk_tokens, topk_prob, color='skyblue')\n",
    "    plt.xlabel('Tokens')\n",
    "    plt.ylabel('Probability')\n",
    "    plt.title('Top K Token Probabilities')\n",
    "    plt.show()\n",
    "\n",
    "    # Creating a table\n",
    "    prob_df = pd.DataFrame({'Token': topk_tokens, 'Probability': topk_prob})\n",
    "    print(prob_df)\n",
    "\n",
    "# Example usage:\n",
    "input_text = \"Example input\"\n",
    "encoded_input = [stoi[c] for c in input_text if c in stoi]\n",
    "idx = torch.tensor([encoded_input], dtype=torch.long).to(device)\n",
    "model.to(device)\n",
    "\n",
    "# Visualize probabilities\n",
    "visualize_probabilities(model, idx, stoi, itos, top_k=10)\n"
   ]
  }
 ],
 "metadata": {
  "accelerator": "GPU",
  "colab": {
   "gpuType": "T4",
   "provenance": []
  },
  "kernelspec": {
   "display_name": "Python 3 (ipykernel)",
   "language": "python",
   "name": "python3"
  },
  "language_info": {
   "codemirror_mode": {
    "name": "ipython",
    "version": 3
   },
   "file_extension": ".py",
   "mimetype": "text/x-python",
   "name": "python",
   "nbconvert_exporter": "python",
   "pygments_lexer": "ipython3",
   "version": "3.11.4"
  }
 },
 "nbformat": 4,
 "nbformat_minor": 1
}
